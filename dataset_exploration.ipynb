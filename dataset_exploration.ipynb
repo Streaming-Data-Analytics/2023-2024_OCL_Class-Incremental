{
 "cells": [
  {
   "cell_type": "code",
   "execution_count": 29,
   "metadata": {},
   "outputs": [],
   "source": [
    "import torchvision\n",
    "import matplotlib.pyplot as plt\n",
    "from torch.optim import SGD\n",
    "from torch.nn import CrossEntropyLoss\n",
    "from avalanche.training.supervised import Naive\n",
    "from avalanche.models import SlimResNet18\n",
    "from avalanche.benchmarks import with_task_labels, benchmark_from_datasets\n",
    "from utils import load_CLEAR, build_CLEAR_experiences\n",
    "from avalanche.logging import InteractiveLogger, TextLogger\n",
    "from avalanche.training.plugins import EvaluationPlugin\n",
    "from avalanche.evaluation.metrics import forgetting_metrics, \\\n",
    "accuracy_metrics, loss_metrics, timing_metrics, confusion_matrix_metrics"
   ]
  },
  {
   "cell_type": "code",
   "execution_count": 30,
   "metadata": {},
   "outputs": [
    {
     "name": "stderr",
     "output_type": "stream",
     "text": [
      "libpng warning: iCCP: profile 'ICC Profile': 'RGB ': RGB color space not permitted on grayscale PNG\n",
      "libpng warning: iCCP: profile 'ICC Profile': 'RGB ': RGB color space not permitted on grayscale PNG\n",
      "libpng warning: iCCP: profile 'ICC Profile': 'RGB ': RGB color space not permitted on grayscale PNG\n",
      "libpng warning: iCCP: profile 'ICC Profile': 0h: PCS illuminant is not D50\n",
      "libpng warning: iCCP: profile 'ICC Profile': 'RGB ': RGB color space not permitted on grayscale PNG\n"
     ]
    }
   ],
   "source": [
    "normalize = torchvision.transforms.Normalize(\n",
    "    mean=[0.485, 0.456, 0.406], std=[0.229, 0.224, 0.225]\n",
    ")\n",
    "train_transform = torchvision.transforms.Compose(\n",
    "        [\n",
    "            torchvision.transforms.Resize((32, 32)),\n",
    "            #normalize,\n",
    "        ]\n",
    "    )\n",
    "folder_path = '/Users/marcodamommio/2023-2024_OCL_Class-Incremental/train/labeled_images'\n",
    "images_dict = load_CLEAR(folder_path, transform=train_transform)"
   ]
  },
  {
   "cell_type": "code",
   "execution_count": 31,
   "metadata": {},
   "outputs": [
    {
     "data": {
      "image/png": "[encoded data removed]",
      "text/plain": [
       "<Figure size 640x480 with 1 Axes>"
      ]
     },
     "metadata": {},
     "output_type": "display_data"
    }
   ],
   "source": [
    "year_folder_name = '10'\n",
    "class_folder_name = 'baseball'\n",
    "images_array = images_dict[year_folder_name][class_folder_name]\n",
    "\n",
    "elem = 10\n",
    "plt.imshow(images_array[elem].permute(1,2,0))\n",
    "plt.axis('off')  # Nascondere gli assi\n",
    "plt.title(f'Sample {elem}, class {class_folder_name} from year {year_folder_name}')\n",
    "plt.show()"
   ]
  },
  {
   "cell_type": "code",
   "execution_count": 32,
   "metadata": {},
   "outputs": [],
   "source": [
    "classes_pair = [\n",
    "    ('BACKGROUND', 'baseball'),\n",
    "    ('bus', 'camera'),\n",
    "    ('cosplay', 'dress'),\n",
    "    ('hockey', 'laptop'),\n",
    "    ('racing', 'soccer'),\n",
    "    ('sweater', None)   \n",
    "]"
   ]
  },
  {
   "cell_type": "code",
   "execution_count": 33,
   "metadata": {},
   "outputs": [],
   "source": [
    "experiences = build_CLEAR_experiences(images_dict, classes_pair)"
   ]
  },
  {
   "cell_type": "code",
   "execution_count": 34,
   "metadata": {},
   "outputs": [
    {
     "data": {
      "text/plain": [
       "<avalanche.benchmarks.scenarios.generic_scenario.CLScenario at 0x31e762950>"
      ]
     },
     "execution_count": 34,
     "metadata": {},
     "output_type": "execute_result"
    }
   ],
   "source": [
    "bm = with_task_labels(benchmark_from_datasets(train=experiences))\n",
    "bm"
   ]
  },
  {
   "cell_type": "code",
   "execution_count": 35,
   "metadata": {},
   "outputs": [],
   "source": [
    "model = SlimResNet18(nclasses=11, nf=5)\n",
    "optimizer = SGD(model.parameters(), lr=0.001, momentum=0.9)\n",
    "criterion = CrossEntropyLoss()\n",
    "loggers = [InteractiveLogger(), TextLogger(open('log.txt', 'a'))]\n",
    "eval_plugin = EvaluationPlugin(\n",
    "    accuracy_metrics(minibatch=True, epoch=True, experience=True, stream=True),\n",
    "    loss_metrics(minibatch=True, epoch=True, experience=True, stream=True),\n",
    "    timing_metrics(epoch=True, epoch_running=True),\n",
    "    forgetting_metrics(experience=True, stream=True),\n",
    "    confusion_matrix_metrics(num_classes=11, save_image=False,\n",
    "                             stream=True),\n",
    "    loggers=loggers\n",
    ")\n",
    "cl_strategy = Naive(\n",
    "    model=model, \n",
    "    optimizer=optimizer, \n",
    "    criterion=criterion,\n",
    "    train_mb_size=10,\n",
    "    train_epochs=1, \n",
    "    eval_mb_size=100,\n",
    "    evaluator=eval_plugin\n",
    ")"
   ]
  },
  {
   "cell_type": "code",
   "execution_count": 26,
   "metadata": {},
   "outputs": [
    {
     "name": "stdout",
     "output_type": "stream",
     "text": [
      "Starting experiment...\n",
      "Start of experience:  0\n",
      "\tTask labels: {0}\n",
      "-- >> Start of training phase << --\n",
      "100%|██████████| 1/1 [00:00<00:00, 37.66it/s]\n",
      "Epoch 0 ended.\n",
      "\tLoss_Epoch/train_phase/train_stream/Task000 = 2.6732\n",
      "\tLoss_MB/train_phase/train_stream/Task000 = 2.6732\n",
      "\tRunningTime_Epoch/train_phase/train_stream/Task000 = 0.0268\n",
      "\tTime_Epoch/train_phase/train_stream/Task000 = 0.0268\n",
      "\tTop1_Acc_Epoch/train_phase/train_stream/Task000 = 0.0000\n",
      "\tTop1_Acc_MB/train_phase/train_stream/Task000 = 0.0000\n",
      "-- >> End of training phase << --\n",
      "Training completed\n",
      "Start of experience:  1\n",
      "\tTask labels: {0}\n",
      "-- >> Start of training phase << --\n",
      "100%|██████████| 1/1 [00:00<00:00, 68.72it/s]\n",
      "Epoch 0 ended.\n",
      "\tLoss_Epoch/train_phase/train_stream/Task000 = 2.6638\n",
      "\tLoss_MB/train_phase/train_stream/Task000 = 2.6638\n",
      "\tRunningTime_Epoch/train_phase/train_stream/Task000 = 0.0143\n",
      "\tTime_Epoch/train_phase/train_stream/Task000 = 0.0143\n",
      "\tTop1_Acc_Epoch/train_phase/train_stream/Task000 = 0.0000\n",
      "\tTop1_Acc_MB/train_phase/train_stream/Task000 = 0.0000\n",
      "-- >> End of training phase << --\n",
      "Training completed\n",
      "Start of experience:  2\n",
      "\tTask labels: {0}\n",
      "-- >> Start of training phase << --\n",
      "100%|██████████| 1/1 [00:00<00:00, 99.48it/s] \n",
      "Epoch 0 ended.\n",
      "\tLoss_Epoch/train_phase/train_stream/Task000 = 2.6079\n",
      "\tLoss_MB/train_phase/train_stream/Task000 = 2.6079\n",
      "\tRunningTime_Epoch/train_phase/train_stream/Task000 = 0.0097\n",
      "\tTime_Epoch/train_phase/train_stream/Task000 = 0.0097\n",
      "\tTop1_Acc_Epoch/train_phase/train_stream/Task000 = 0.0000\n",
      "\tTop1_Acc_MB/train_phase/train_stream/Task000 = 0.0000\n",
      "-- >> End of training phase << --\n",
      "Training completed\n",
      "Start of experience:  3\n",
      "\tTask labels: {0}\n",
      "-- >> Start of training phase << --\n",
      "100%|██████████| 1/1 [00:00<00:00, 80.22it/s]\n",
      "Epoch 0 ended.\n",
      "\tLoss_Epoch/train_phase/train_stream/Task000 = 2.5508\n",
      "\tLoss_MB/train_phase/train_stream/Task000 = 2.5508\n",
      "\tRunningTime_Epoch/train_phase/train_stream/Task000 = 0.0124\n",
      "\tTime_Epoch/train_phase/train_stream/Task000 = 0.0124\n",
      "\tTop1_Acc_Epoch/train_phase/train_stream/Task000 = 0.0000\n",
      "\tTop1_Acc_MB/train_phase/train_stream/Task000 = 0.0000\n",
      "-- >> End of training phase << --\n",
      "Training completed\n",
      "Start of experience:  4\n",
      "\tTask labels: {0}\n",
      "-- >> Start of training phase << --\n",
      "100%|██████████| 1/1 [00:00<00:00, 89.44it/s]\n",
      "Epoch 0 ended.\n",
      "\tLoss_Epoch/train_phase/train_stream/Task000 = 2.4501\n",
      "\tLoss_MB/train_phase/train_stream/Task000 = 2.4501\n",
      "\tRunningTime_Epoch/train_phase/train_stream/Task000 = 0.0110\n",
      "\tTime_Epoch/train_phase/train_stream/Task000 = 0.0110\n",
      "\tTop1_Acc_Epoch/train_phase/train_stream/Task000 = 0.0000\n",
      "\tTop1_Acc_MB/train_phase/train_stream/Task000 = 0.0000\n",
      "-- >> End of training phase << --\n",
      "Training completed\n",
      "Start of experience:  5\n",
      "\tTask labels: {0}\n",
      "-- >> Start of training phase << --\n",
      "100%|██████████| 1/1 [00:00<00:00, 122.82it/s]\n",
      "Epoch 0 ended.\n",
      "\tLoss_Epoch/train_phase/train_stream/Task000 = 2.3442\n",
      "\tLoss_MB/train_phase/train_stream/Task000 = 2.3442\n",
      "\tRunningTime_Epoch/train_phase/train_stream/Task000 = 0.0085\n",
      "\tTime_Epoch/train_phase/train_stream/Task000 = 0.0085\n",
      "\tTop1_Acc_Epoch/train_phase/train_stream/Task000 = 0.0000\n",
      "\tTop1_Acc_MB/train_phase/train_stream/Task000 = 0.0000\n",
      "-- >> End of training phase << --\n",
      "Training completed\n",
      "Start of experience:  6\n",
      "\tTask labels: {0}\n",
      "-- >> Start of training phase << --\n",
      "100%|██████████| 1/1 [00:00<00:00, 70.64it/s]\n",
      "Epoch 0 ended.\n",
      "\tLoss_Epoch/train_phase/train_stream/Task000 = 2.2365\n",
      "\tLoss_MB/train_phase/train_stream/Task000 = 2.2365\n",
      "\tRunningTime_Epoch/train_phase/train_stream/Task000 = 0.0134\n",
      "\tTime_Epoch/train_phase/train_stream/Task000 = 0.0134\n",
      "\tTop1_Acc_Epoch/train_phase/train_stream/Task000 = 0.0000\n",
      "\tTop1_Acc_MB/train_phase/train_stream/Task000 = 0.0000\n",
      "-- >> End of training phase << --\n",
      "Training completed\n",
      "Start of experience:  7\n",
      "\tTask labels: {0}\n",
      "-- >> Start of training phase << --\n",
      "100%|██████████| 1/1 [00:00<00:00, 116.87it/s]\n",
      "Epoch 0 ended.\n",
      "\tLoss_Epoch/train_phase/train_stream/Task000 = 2.1087\n",
      "\tLoss_MB/train_phase/train_stream/Task000 = 2.1087\n",
      "\tRunningTime_Epoch/train_phase/train_stream/Task000 = 0.0085\n",
      "\tTime_Epoch/train_phase/train_stream/Task000 = 0.0085\n",
      "\tTop1_Acc_Epoch/train_phase/train_stream/Task000 = 0.0000\n",
      "\tTop1_Acc_MB/train_phase/train_stream/Task000 = 0.0000\n",
      "-- >> End of training phase << --\n",
      "Training completed\n",
      "Start of experience:  8\n",
      "\tTask labels: {0}\n",
      "-- >> Start of training phase << --\n",
      "100%|██████████| 1/1 [00:00<00:00, 85.08it/s]\n",
      "Epoch 0 ended.\n",
      "\tLoss_Epoch/train_phase/train_stream/Task000 = 1.9639\n",
      "\tLoss_MB/train_phase/train_stream/Task000 = 1.9639\n",
      "\tRunningTime_Epoch/train_phase/train_stream/Task000 = 0.0114\n",
      "\tTime_Epoch/train_phase/train_stream/Task000 = 0.0114\n",
      "\tTop1_Acc_Epoch/train_phase/train_stream/Task000 = 0.3000\n",
      "\tTop1_Acc_MB/train_phase/train_stream/Task000 = 0.3000\n",
      "-- >> End of training phase << --\n",
      "Training completed\n",
      "Start of experience:  9\n",
      "\tTask labels: {0}\n",
      "-- >> Start of training phase << --\n",
      "100%|██████████| 1/1 [00:00<00:00, 92.88it/s] \n",
      "Epoch 0 ended.\n",
      "\tLoss_Epoch/train_phase/train_stream/Task000 = 1.8265\n",
      "\tLoss_MB/train_phase/train_stream/Task000 = 1.8265\n",
      "\tRunningTime_Epoch/train_phase/train_stream/Task000 = 0.0105\n",
      "\tTime_Epoch/train_phase/train_stream/Task000 = 0.0105\n",
      "\tTop1_Acc_Epoch/train_phase/train_stream/Task000 = 0.6000\n",
      "\tTop1_Acc_MB/train_phase/train_stream/Task000 = 0.6000\n",
      "-- >> End of training phase << --\n",
      "Training completed\n"
     ]
    }
   ],
   "source": [
    "# TRAINING LOOP\n",
    "print('Starting experiment...')\n",
    "results = []\n",
    "for experience in bm.train_stream[:10]:\n",
    "    print(\"Start of experience: \", experience.current_experience)\n",
    "\n",
    "    # in Avalanche an experience may have multiple task labels\n",
    "    # if the samples in its dataset come from different tasks\n",
    "    # here we just have one task label per experience\n",
    "    print(f\"\\tTask labels: {experience.task_labels}\")\n",
    "\n",
    "    cl_strategy.train(experience)\n",
    "    print('Training completed')"
   ]
  }
 ],
 "metadata": {
  "kernelspec": {
   "display_name": "sda",
   "language": "python",
   "name": "python3"
  },
  "language_info": {
   "codemirror_mode": {
    "name": "ipython",
    "version": 3
   },
   "file_extension": ".py",
   "mimetype": "text/x-python",
   "name": "python",
   "nbconvert_exporter": "python",
   "pygments_lexer": "ipython3",
   "version": "3.11.5"
  },
  "orig_nbformat": 4
 },
 "nbformat": 4,
 "nbformat_minor": 2
}
